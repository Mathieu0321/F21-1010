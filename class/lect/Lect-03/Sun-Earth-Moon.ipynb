{
 "cells": [
  {
   "cell_type": "code",
   "execution_count": 2,
   "metadata": {},
   "outputs": [
    {
     "name": "stdout",
     "output_type": "stream",
     "text": [
      "Earth Diameter in Feet 41807040\n"
     ]
    }
   ],
   "source": [
    "feet_per_mile = 5280\n",
    "earth_radius = 3959\n",
    "earth_diameter = earth_radius * 2\n",
    "earth_diameter_feet = earth_diameter * feet_per_mile\n",
    "print ( \"Earth Diameter in Feet {}\".format(earth_diameter_feet))"
   ]
  },
  {
   "cell_type": "code",
   "execution_count": 3,
   "metadata": {},
   "outputs": [
    {
     "name": "stdout",
     "output_type": "stream",
     "text": [
      "Sun Diameter in Feet 4569153600\n"
     ]
    }
   ],
   "source": [
    "sun_diameter_miles = 865370\n",
    "sun_diameter_feet = sun_diameter_miles * feet_per_mile\n",
    "print ( \"Sun Diameter in Feet {}\".format(sun_diameter_feet))"
   ]
  },
  {
   "cell_type": "code",
   "execution_count": 4,
   "metadata": {},
   "outputs": [
    {
     "name": "stdout",
     "output_type": "stream",
     "text": [
      "Tennis Ball Diameter in Feet 0.22916666666666666\n"
     ]
    }
   ],
   "source": [
    "tennis_ball_inches = 2.75\n",
    "tennis_ball_feet = tennis_ball_inches / 12\n",
    "print ( \"Tennis Ball Diameter in Feet {}\".format(tennis_ball_feet))"
   ]
  },
  {
   "cell_type": "markdown",
   "metadata": {},
   "source": [
    "Calculate the conversion factor from feet to tennis ball for sun size."
   ]
  },
  {
   "cell_type": "code",
   "execution_count": 5,
   "metadata": {},
   "outputs": [
    {
     "name": "stdout",
     "output_type": "stream",
     "text": [
      "Conversion to TB units 19938124800.0\n"
     ]
    }
   ],
   "source": [
    "tb_conv = sun_diameter_feet / tennis_ball_feet\n",
    "print ( \"Conversion to TB units {}\".format(tb_conv))"
   ]
  },
  {
   "cell_type": "markdown",
   "metadata": {},
   "source": [
    "Calculate Diameter of Earth in Tennis Ball Units"
   ]
  },
  {
   "cell_type": "code",
   "execution_count": 6,
   "metadata": {},
   "outputs": [
    {
     "name": "stdout",
     "output_type": "stream",
     "text": [
      "Earth in TB Units (feet) = 0.0020968391169865685, (inches) = 0.025162069403838822, thousands of an inch = 25.16206940383882\n"
     ]
    }
   ],
   "source": [
    "tb_earth_feet = earth_diameter_feet / tb_conv\n",
    "tb_earth_inches = tb_earth_feet * 12\n",
    "print ( \"Earth in TB Units (feet) = {}, (inches) = {}, thousands of an inch = {}\".format(tb_earth_feet,\n",
    "                                                                                         tb_earth_inches,\n",
    "                                                                                         tb_earth_inches*1000))"
   ]
  },
  {
   "cell_type": "markdown",
   "metadata": {},
   "source": [
    "Calculate the Diameter of the Moon"
   ]
  },
  {
   "cell_type": "code",
   "execution_count": 16,
   "metadata": {},
   "outputs": [
    {
     "name": "stdout",
     "output_type": "stream",
     "text": [
      "Diameter of Moon in Feet 11400048.0\n"
     ]
    }
   ],
   "source": [
    "moon_diameter_miles = 2159.1\n",
    "moon_diameter_feet = moon_diameter_miles * feet_per_mile\n",
    "print ( \"Diameter of Moon in Feet {}\".format(moon_diameter_feet))"
   ]
  },
  {
   "cell_type": "code",
   "execution_count": 17,
   "metadata": {},
   "outputs": [
    {
     "name": "stdout",
     "output_type": "stream",
     "text": [
      "Moon in TB Units (feet) = 0.0005717713232490149, (inches) = 0.006861255878988179, thousands of an inch = 6.861255878988179\n"
     ]
    }
   ],
   "source": [
    "tb_moon_diameter_feet = moon_diameter_feet / tb_conv\n",
    "tb_moon_diameter_inches = tb_moon_diameter_feet * 12\n",
    "print ( \"Moon in TB Units (feet) = {}, (inches) = {}, thousands of an inch = {}\".format(tb_moon_diameter_feet,\n",
    "                                                                                        tb_moon_diameter_inches,\n",
    "                                                                                        tb_moon_diameter_inches*1000))"
   ]
  },
  {
   "cell_type": "markdown",
   "metadata": {},
   "source": [
    "Calculate the average orbital distance of the moon from the earth"
   ]
  },
  {
   "cell_type": "code",
   "execution_count": 18,
   "metadata": {},
   "outputs": [
    {
     "name": "stdout",
     "output_type": "stream",
     "text": [
      "Earth to Moon in TB Units (feet) = 0.06326532774034999, (inches) = 0.7591839328841998\n"
     ]
    }
   ],
   "source": [
    "earth_to_moon_avg_miles = 238900\n",
    "earth_to_moon_avg_feet = earth_to_moon_avg_miles * feet_per_mile\n",
    "tb_earth_to_moon_avg_feet = earth_to_moon_avg_feet / tb_conv\n",
    "tb_earth_to_moon_avg_inches = tb_earth_to_moon_avg_feet * 12\n",
    "print ( \"Earth to Moon in TB Units (feet) = {}, (inches) = {}\".format(tb_earth_to_moon_avg_feet,\n",
    "                                                                     tb_earth_to_moon_avg_inches))"
   ]
  },
  {
   "cell_type": "code",
   "execution_count": 11,
   "metadata": {},
   "outputs": [
    {
     "name": "stdout",
     "output_type": "stream",
     "text": [
      "Sun to Earth in Tb Units (feet) = 24.616840924113383\n"
     ]
    }
   ],
   "source": [
    "sun_to_earth_miles = 149600000 * 0.62137119\n",
    "sun_to_earth_feet = sun_to_earth_miles * feet_per_mile\n",
    "tb_sun_to_earth_feet = sun_to_earth_feet / tb_conv\n",
    "print ( \"Sun to Earth in Tb Units (feet) = {}\".format(tb_sun_to_earth_feet))"
   ]
  },
  {
   "cell_type": "code",
   "execution_count": 12,
   "metadata": {},
   "outputs": [
    {
     "name": "stdout",
     "output_type": "stream",
     "text": [
      "Miles from sun to mars = 141610494.201\n",
      "Sun to Mars in Tb Units(feet) = 37.50119015110589\n"
     ]
    }
   ],
   "source": [
    "sun_to_mars_km = 227900000\n",
    "sun_to_mars_miles = sun_to_mars_km * 0.62137119\n",
    "print ( \"Miles from sun to mars = {}\".format(sun_to_mars_miles) )\n",
    "sun_to_mars_feet = sun_to_mars_miles * feet_per_mile\n",
    "tb_sun_to_mars = sun_to_mars_feet / tb_conv\n",
    "print ( \"Sun to Mars in Tb Units(feet) = {}\".format(tb_sun_to_mars)\n",
    "      )"
   ]
  },
  {
   "cell_type": "code",
   "execution_count": 13,
   "metadata": {},
   "outputs": [
    {
     "name": "stdout",
     "output_type": "stream",
     "text": [
      "Sun to Jupiter in Tb Units(feet) = 128.11946753686286\n"
     ]
    }
   ],
   "source": [
    "sun_to_jupiter_km = 778600000\n",
    "sun_to_jupiter_miles = sun_to_jupiter_km * 0.62137119\n",
    "sun_to_jupiter_feet = sun_to_jupiter_miles * feet_per_mile\n",
    "tb_sun_to_jupiter = sun_to_jupiter_feet / tb_conv\n",
    "print ( \"Sun to Jupiter in Tb Units(feet) = {}\".format(tb_sun_to_jupiter))"
   ]
  },
  {
   "cell_type": "code",
   "execution_count": 15,
   "metadata": {},
   "outputs": [
    {
     "name": "stdout",
     "output_type": "stream",
     "text": [
      "Sun to Ortt Cloud in Tb Units(feet) = 1244650.6503961696, in Miles = 235.7292898477594\n"
     ]
    }
   ],
   "source": [
    "sun_to_ortt_cloud_miles = 4700000000000\n",
    "sun_to_ortt_cloud_feet = sun_to_ortt_cloud_miles * feet_per_mile\n",
    "tb_sun_to_ortt_cloud = sun_to_ortt_cloud_feet / tb_conv\n",
    "print ( \"Sun to Ortt Cloud in Tb Units(feet) = {}, in Miles = {}\".format(tb_sun_to_ortt_cloud, tb_sun_to_ortt_cloud/feet_per_mile))"
   ]
  },
  {
   "cell_type": "code",
   "execution_count": null,
   "metadata": {},
   "outputs": [],
   "source": []
  }
 ],
 "metadata": {
  "kernelspec": {
   "display_name": "Python 3",
   "language": "python",
   "name": "python3"
  },
  "language_info": {
   "codemirror_mode": {
    "name": "ipython",
    "version": 3
   },
   "file_extension": ".py",
   "mimetype": "text/x-python",
   "name": "python",
   "nbconvert_exporter": "python",
   "pygments_lexer": "ipython3",
   "version": "3.8.3"
  }
 },
 "nbformat": 4,
 "nbformat_minor": 4
}
